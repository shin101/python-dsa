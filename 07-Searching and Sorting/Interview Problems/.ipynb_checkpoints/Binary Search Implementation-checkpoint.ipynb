{
 "cells": [
  {
   "cell_type": "code",
   "execution_count": 9,
   "id": "f958d4b7",
   "metadata": {},
   "outputs": [],
   "source": [
    "#normal\n",
    "def binary_search(arr, target):\n",
    "    low = 0\n",
    "    high = len(arr)-1\n",
    "    \n",
    "    while low <= high:\n",
    "        mid = low + (high-low)//2\n",
    "        \n",
    "        if arr[mid] == target:\n",
    "            return True\n",
    "        \n",
    "        elif target > arr[mid]:\n",
    "            low = mid + 1\n",
    "        else:\n",
    "            high = mid - 1\n",
    "    return False\n",
    "    "
   ]
  },
  {
   "cell_type": "code",
   "execution_count": 13,
   "id": "8d81b3f5",
   "metadata": {},
   "outputs": [],
   "source": [
    "# list must already be sorted!\n",
    "arr = [1,2,3,4,5,6,7,8,9,10]"
   ]
  },
  {
   "cell_type": "code",
   "execution_count": 14,
   "id": "19242b14",
   "metadata": {},
   "outputs": [
    {
     "name": "stdout",
     "output_type": "stream",
     "text": [
      "True\n",
      "False\n"
     ]
    }
   ],
   "source": [
    "print(binary_search(arr,4)) # should return true\n",
    "print(binary_search(arr,2.2)) # should return false"
   ]
  },
  {
   "cell_type": "code",
   "execution_count": 15,
   "id": "9b1c8963",
   "metadata": {},
   "outputs": [],
   "source": [
    "#recursive ver"
   ]
  },
  {
   "cell_type": "code",
   "execution_count": 21,
   "id": "5da3275f",
   "metadata": {},
   "outputs": [],
   "source": [
    "def rec_bin_search(arr, target):\n",
    "    low = 0\n",
    "    high = len(arr)-1\n",
    "    \n",
    "    # Base Case!\n",
    "    if len(arr) == 0:\n",
    "        return False\n",
    "    \n",
    "    while low <= high:\n",
    "        mid = low + (high-low)//2\n",
    "        \n",
    "        if arr[mid] == target:\n",
    "            return True\n",
    "        \n",
    "        else:\n",
    "            if target > arr[mid]:\n",
    "                return rec_bin_search(arr[mid+1:], target)\n",
    "            else:\n",
    "                return rec_bin_search(arr[:mid], target)\n",
    "    return False"
   ]
  },
  {
   "cell_type": "code",
   "execution_count": 22,
   "id": "05c03528",
   "metadata": {},
   "outputs": [
    {
     "name": "stdout",
     "output_type": "stream",
     "text": [
      "True\n",
      "False\n"
     ]
    }
   ],
   "source": [
    "arr = [1,2,3,4,5,6,7,8,9,10]\n",
    "\n",
    "print(rec_bin_search(arr,3)) # should return true\n",
    "print(rec_bin_search(arr,15)) # should return false"
   ]
  },
  {
   "cell_type": "code",
   "execution_count": null,
   "id": "2f0b15c0",
   "metadata": {},
   "outputs": [],
   "source": []
  },
  {
   "cell_type": "code",
   "execution_count": null,
   "id": "b32609c2",
   "metadata": {},
   "outputs": [],
   "source": []
  }
 ],
 "metadata": {
  "kernelspec": {
   "display_name": "Python 3 (ipykernel)",
   "language": "python",
   "name": "python3"
  },
  "language_info": {
   "codemirror_mode": {
    "name": "ipython",
    "version": 3
   },
   "file_extension": ".py",
   "mimetype": "text/x-python",
   "name": "python",
   "nbconvert_exporter": "python",
   "pygments_lexer": "ipython3",
   "version": "3.8.13"
  }
 },
 "nbformat": 4,
 "nbformat_minor": 5
}
