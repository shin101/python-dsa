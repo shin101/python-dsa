{
 "cells": [
  {
   "cell_type": "code",
   "execution_count": 8,
   "id": "a210956f",
   "metadata": {},
   "outputs": [],
   "source": [
    "def shell_sort(arr):\n",
    "    size = len(arr)\n",
    "    gap = size//2\n",
    "    \n",
    "    while gap > 0:\n",
    "        for idx in range(gap,size):\n",
    "            anchor = arr[idx]\n",
    "            j = idx\n",
    "            \n",
    "            while arr[j-gap] > anchor and j>=gap:\n",
    "                arr[j] = arr[j-gap]\n",
    "                j -= gap\n",
    "            arr[j] = anchor\n",
    "        gap //=2\n",
    "    return arr"
   ]
  },
  {
   "cell_type": "code",
   "execution_count": 9,
   "id": "a8e7fa51",
   "metadata": {},
   "outputs": [
    {
     "name": "stdout",
     "output_type": "stream",
     "text": [
      "[1, 2, 3, 3, 5, 6, 7, 9]\n"
     ]
    }
   ],
   "source": [
    "print(shell_sort([5,7,3,1,6,2,9,3]))"
   ]
  },
  {
   "cell_type": "code",
   "execution_count": null,
   "id": "863636b3",
   "metadata": {},
   "outputs": [],
   "source": []
  },
  {
   "cell_type": "code",
   "execution_count": null,
   "id": "8a1464d8",
   "metadata": {},
   "outputs": [],
   "source": []
  },
  {
   "cell_type": "code",
   "execution_count": null,
   "id": "0c4aa294",
   "metadata": {},
   "outputs": [],
   "source": []
  },
  {
   "cell_type": "code",
   "execution_count": null,
   "id": "9096f465",
   "metadata": {},
   "outputs": [],
   "source": []
  }
 ],
 "metadata": {
  "kernelspec": {
   "display_name": "Python 3 (ipykernel)",
   "language": "python",
   "name": "python3"
  },
  "language_info": {
   "codemirror_mode": {
    "name": "ipython",
    "version": 3
   },
   "file_extension": ".py",
   "mimetype": "text/x-python",
   "name": "python",
   "nbconvert_exporter": "python",
   "pygments_lexer": "ipython3",
   "version": "3.8.13"
  }
 },
 "nbformat": 4,
 "nbformat_minor": 5
}
