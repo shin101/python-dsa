{
 "cells": [
  {
   "cell_type": "code",
   "execution_count": 21,
   "id": "9a942b39",
   "metadata": {},
   "outputs": [],
   "source": [
    "def selection_sort(arr):\n",
    "    for i in range(0,len(arr)-1):\n",
    "        minimum = i\n",
    "        for j in range(i+1, len(arr)):\n",
    "            if arr[minimum] > arr[j]:\n",
    "                minimum = j\n",
    "        \n",
    "        if minimum != i:\n",
    "            arr[minimum], arr[i] = arr[i], arr[minimum]\n",
    "                \n",
    "\n",
    "    return arr\n",
    "                "
   ]
  },
  {
   "cell_type": "code",
   "execution_count": 22,
   "id": "75f0ede4",
   "metadata": {},
   "outputs": [
    {
     "name": "stdout",
     "output_type": "stream",
     "text": [
      "[1, 2, 3, 3, 5, 6, 7, 9]\n"
     ]
    }
   ],
   "source": [
    "print(selection_sort([5,7,3,1,6,2,9,3]))"
   ]
  },
  {
   "cell_type": "code",
   "execution_count": null,
   "id": "fc496343",
   "metadata": {},
   "outputs": [],
   "source": []
  },
  {
   "cell_type": "code",
   "execution_count": null,
   "id": "3120061a",
   "metadata": {},
   "outputs": [],
   "source": []
  },
  {
   "cell_type": "code",
   "execution_count": null,
   "id": "ac2d209f",
   "metadata": {},
   "outputs": [],
   "source": []
  }
 ],
 "metadata": {
  "kernelspec": {
   "display_name": "Python 3 (ipykernel)",
   "language": "python",
   "name": "python3"
  },
  "language_info": {
   "codemirror_mode": {
    "name": "ipython",
    "version": 3
   },
   "file_extension": ".py",
   "mimetype": "text/x-python",
   "name": "python",
   "nbconvert_exporter": "python",
   "pygments_lexer": "ipython3",
   "version": "3.8.13"
  }
 },
 "nbformat": 4,
 "nbformat_minor": 5
}
