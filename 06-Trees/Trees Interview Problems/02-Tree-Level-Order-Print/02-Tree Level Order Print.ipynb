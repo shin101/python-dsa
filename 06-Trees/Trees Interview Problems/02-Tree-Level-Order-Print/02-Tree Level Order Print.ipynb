{
 "cells": [
  {
   "cell_type": "markdown",
   "metadata": {},
   "source": [
    "# Tree Level Order Print \n",
    "\n",
    "Given a binary tree of integers, print it in level order. The output will contain space between the numbers in the same level, and new line between different levels. For example, if the tree is: \n",
    "___\n",
    "![title](tree_print.png)\n",
    "___\n",
    "The output should be: \n",
    "\n",
    "    1 \n",
    "    2 3 \n",
    "    4 5 6"
   ]
  },
  {
   "cell_type": "markdown",
   "metadata": {},
   "source": [
    "## Solution\n",
    "\n",
    "Fill out your solution below:"
   ]
  },
  {
   "cell_type": "code",
   "execution_count": 69,
   "metadata": {},
   "outputs": [],
   "source": [
    "class Node:\n",
    "    def __init__(self, val=None):\n",
    "        self.left = None\n",
    "        self.right = None\n",
    "        self.val =  val "
   ]
  },
  {
   "cell_type": "code",
   "execution_count": 108,
   "metadata": {},
   "outputs": [],
   "source": [
    "import collections\n",
    "\n",
    "def levelOrderPrint(tree):\n",
    "    if not tree:\n",
    "        return\n",
    "    nodes = collections.deque([tree])\n",
    "    \n",
    "    currCount = 1\n",
    "    childrenCount = 0\n",
    "    \n",
    "    while len(nodes)!=0:\n",
    "        curr = nodes.popleft()\n",
    "        currCount-=1\n",
    "        print(curr.val,end=' ')\n",
    "        if curr.left:\n",
    "            nodes.append(curr.left)\n",
    "            childrenCount+=1\n",
    "        if curr.right:\n",
    "            nodes.append(curr.right)\n",
    "            childrenCount+=1\n",
    "        if currCount==0:\n",
    "            print()\n",
    "            currCount, childrenCount = childrenCount,currCount\n",
    "        "
   ]
  },
  {
   "cell_type": "code",
   "execution_count": 109,
   "metadata": {},
   "outputs": [
    {
     "name": "stdout",
     "output_type": "stream",
     "text": [
      "1 \n",
      "2 3 \n"
     ]
    }
   ],
   "source": [
    "root = Node(1)\n",
    "root.left = Node(2)\n",
    "root.right = Node(3)\n",
    "levelOrderPrint(root)"
   ]
  },
  {
   "cell_type": "code",
   "execution_count": 110,
   "metadata": {},
   "outputs": [
    {
     "name": "stdout",
     "output_type": "stream",
     "text": [
      "1 \n",
      "2 3 \n",
      "4 5 6 7 \n"
     ]
    }
   ],
   "source": [
    "root = Node(1)\n",
    "root.left = Node(2)\n",
    "root.right = Node(3)\n",
    "root.left.left = Node(4)\n",
    "root.left.right = Node(5)\n",
    "root.right.left = Node(6)\n",
    "root.right.right = Node(7)\n",
    "levelOrderPrint(root)"
   ]
  },
  {
   "cell_type": "code",
   "execution_count": null,
   "metadata": {},
   "outputs": [],
   "source": []
  },
  {
   "cell_type": "code",
   "execution_count": null,
   "metadata": {},
   "outputs": [],
   "source": []
  },
  {
   "cell_type": "code",
   "execution_count": null,
   "metadata": {},
   "outputs": [],
   "source": []
  },
  {
   "cell_type": "code",
   "execution_count": null,
   "metadata": {},
   "outputs": [],
   "source": []
  },
  {
   "cell_type": "code",
   "execution_count": 5,
   "metadata": {},
   "outputs": [],
   "source": [
    "\n",
    "# MY SOLUTION\n",
    "\n",
    "# import collections\n",
    "\n",
    "# def levelOrderPrint(tree):\n",
    "#     if not tree:\n",
    "#         return None\n",
    "#     nodes = collections.deque([tree])\n",
    "#     currCount = 1\n",
    "#     children = 0 \n",
    "\n",
    "#     while len(nodes)!=0:\n",
    "#         curr = nodes.popleft()\n",
    "#         currCount -= 1\n",
    "#         print(curr.val, end=\" \")  \n",
    "        \n",
    "#         if curr.left:\n",
    "#             nodes.append(curr.left)\n",
    "#             children += 1\n",
    "#         if curr.right:\n",
    "#             nodes.append(curr.right)\n",
    "#             children += 1\n",
    "#         if currCount == 0 :\n",
    "#             print()\n",
    "#             currCount, children = children, currCount\n",
    "\n",
    "\n",
    "# SOLUTION FROM LECTURE\n",
    "\n",
    "# def levelOrderPrint(tree):\n",
    "#     if not tree:\n",
    "#         return\n",
    "#     nodes = collections.deque([tree])\n",
    "#     currentCount, nextCount = 1, 0\n",
    "#     while len(nodes) != 0:\n",
    "#         currentNode = nodes.popleft()\n",
    "#         currentCount -= 1\n",
    "#         print(currentNode.val, end=\" \")  # Print without newline\n",
    "#         if currentNode.left:\n",
    "#             nodes.append(currentNode.left)\n",
    "#             nextCount += 1\n",
    "#         if currentNode.right:\n",
    "#             nodes.append(currentNode.right)\n",
    "#             nextCount += 1\n",
    "#         if currentCount == 0:\n",
    "#             # Finished printing current level\n",
    "#             print()  # Print newline\n",
    "#             currentCount, nextCount = nextCount, currentCount\n"
   ]
  }
 ],
 "metadata": {
  "kernelspec": {
   "display_name": "Python 3 (ipykernel)",
   "language": "python",
   "name": "python3"
  },
  "language_info": {
   "codemirror_mode": {
    "name": "ipython",
    "version": 3
   },
   "file_extension": ".py",
   "mimetype": "text/x-python",
   "name": "python",
   "nbconvert_exporter": "python",
   "pygments_lexer": "ipython3",
   "version": "3.8.13"
  }
 },
 "nbformat": 4,
 "nbformat_minor": 1
}
