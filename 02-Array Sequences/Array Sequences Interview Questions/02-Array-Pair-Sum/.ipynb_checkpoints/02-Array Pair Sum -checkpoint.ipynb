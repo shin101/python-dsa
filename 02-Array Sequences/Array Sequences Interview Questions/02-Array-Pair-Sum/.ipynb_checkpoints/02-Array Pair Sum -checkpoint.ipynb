{
 "cells": [
  {
   "cell_type": "markdown",
   "metadata": {},
   "source": [
    "# Array Pair Sum\n",
    "\n",
    "## Problem\n",
    "\n",
    "Given an integer array, output all the ** *unique* ** pairs that sum up to a specific value **k**.\n",
    "\n",
    "So the input:\n",
    "    \n",
    "    pair_sum([1,3,2,2],4)\n",
    "\n",
    "would return **2** pairs:\n",
    "\n",
    "     (1,3)\n",
    "     (2,2)\n",
    "\n",
    "**NOTE: FOR TESTING PURPOSES CHANGE YOUR FUNCTION SO IT OUTPUTS THE NUMBER OF PAIRS**\n",
    "\n",
    "## Solution\n",
    "\n",
    "Fill out your solution below:"
   ]
  },
  {
   "cell_type": "code",
   "execution_count": 4,
   "metadata": {},
   "outputs": [],
   "source": [
    "def pair_sum(arr,k):\n",
    "    seen = set()\n",
    "    output = set()\n",
    "\n",
    "    for num in arr: \n",
    "        if k-num not in seen:\n",
    "            seen.add(num)\n",
    "        else:\n",
    "            output.add((num, k-num))\n",
    "            \n",
    "    return len(output)\n",
    "    \n",
    "    \n",
    "\n",
    "\n",
    "\n",
    "\n",
    "# def pair_sum(arr,k):\n",
    "#     seen = set()\n",
    "#     output = set()\n",
    "    \n",
    "#     for num in arr: \n",
    "#         if k-num in seen:\n",
    "#             output.add((num, k-num))\n",
    "#         else:\n",
    "#             seen.add(num)\n",
    "#     return len(output)\n",
    "        \n",
    "\n",
    "\n",
    "\n",
    "# def pair_sum(arr,k):\n",
    "#     seen = set()\n",
    "#     output = set()\n",
    "    \n",
    "#     for num in arr:\n",
    "#         if k-num not in seen:\n",
    "#             seen.add(num)\n",
    "#         else:\n",
    "#             output.add((num, k-num))\n",
    "    \n",
    "#     return len(output)\n",
    "    \n",
    "    \n",
    "    \n",
    "#     dict = {}\n",
    "#     count = 0\n",
    "#     for num in arr:\n",
    "#         dict[num] = k - num\n",
    "#         # so num + dict[num] should equal total (k)\n",
    "#         # {1:3, 3:1, 2:2, 2:2}\n",
    "#     print(dict)\n",
    "#     for num in arr:\n",
    "#         if (k-num) in dict:\n",
    "#             count += 1\n",
    "#             del dict[num] \n",
    "#             del dict[k-num]\n",
    "#     return count\n",
    "            "
   ]
  },
  {
   "cell_type": "code",
   "execution_count": 5,
   "metadata": {},
   "outputs": [
    {
     "data": {
      "text/plain": [
       "2"
      ]
     },
     "execution_count": 5,
     "metadata": {},
     "output_type": "execute_result"
    }
   ],
   "source": [
    "pair_sum([1,3,2,2],4)"
   ]
  },
  {
   "cell_type": "markdown",
   "metadata": {},
   "source": [
    "# Test Your Solution"
   ]
  },
  {
   "cell_type": "code",
   "execution_count": 6,
   "metadata": {},
   "outputs": [
    {
     "name": "stdout",
     "output_type": "stream",
     "text": [
      "ALL TEST CASES PASSED\n"
     ]
    }
   ],
   "source": [
    "\"\"\"\n",
    "RUN THIS CELL TO TEST YOUR SOLUTION\n",
    "\"\"\"\n",
    "from nose.tools import assert_equal\n",
    "\n",
    "class TestPair(object):\n",
    "    \n",
    "    def test(self,sol):\n",
    "        assert_equal(sol([1,9,2,8,3,7,4,6,5,5,13,14,11,13,-1],10),6)\n",
    "        assert_equal(sol([1,2,3,1],3),1)\n",
    "        assert_equal(sol([1,3,2,2],4),2)\n",
    "        print('ALL TEST CASES PASSED')\n",
    "        \n",
    "#Run tests\n",
    "t = TestPair()\n",
    "t.test(pair_sum)\n",
    "    "
   ]
  },
  {
   "cell_type": "markdown",
   "metadata": {},
   "source": [
    "## Good Job!"
   ]
  },
  {
   "cell_type": "code",
   "execution_count": null,
   "metadata": {},
   "outputs": [],
   "source": []
  }
 ],
 "metadata": {
  "kernelspec": {
   "display_name": "Python 3 (ipykernel)",
   "language": "python",
   "name": "python3"
  },
  "language_info": {
   "codemirror_mode": {
    "name": "ipython",
    "version": 3
   },
   "file_extension": ".py",
   "mimetype": "text/x-python",
   "name": "python",
   "nbconvert_exporter": "python",
   "pygments_lexer": "ipython3",
   "version": "3.8.13"
  }
 },
 "nbformat": 4,
 "nbformat_minor": 1
}
