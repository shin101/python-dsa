{
 "cells": [
  {
   "cell_type": "markdown",
   "metadata": {
    "collapsed": true
   },
   "source": [
    "# String Permutation\n",
    "\n",
    "## Problem Statement\n",
    "\n",
    "Given a string, write a function that uses recursion to output a list of all the possible permutations of that string.\n",
    "\n",
    "For example, given s='abc' the function should return ['abc', 'acb', 'bac', 'bca', 'cab', 'cba']\n",
    "\n",
    "*Note: If a character is repeated, treat each occurence as distinct, for example an input of 'xxx' would return a list with 6 \"versions\" of 'xxx'*\n",
    "\n",
    "\n",
    "## Fill Out Your Solution Below\n",
    "\n",
    "Let's think about what the steps we need to take here are:"
   ]
  },
  {
   "cell_type": "code",
   "execution_count": 8,
   "metadata": {},
   "outputs": [],
   "source": [
    "def permute(string):\n",
    "    output = []\n",
    "    # Iterate through the initial string – e.g., ‘abc’.\n",
    "    for idx, letter in enumerate(string):\n",
    "        for perm in permute(s[:idx], string[idx+1:]): \n",
    "            output += [letter + perm]\n",
    "    return output\n",
    "        \n",
    "\n",
    "        # For each character in the initial string, set aside that character and get a list of all permutations of the string that’s left. \n",
    "        # For example if the current iteration is on 'b', we’d want to find all the permutations of the string 'ac'.\n",
    "\n",
    "    # Once you have the list from step 2, add each element from that list to the character from the initial string, and append the result to our list of final results. \n"
   ]
  },
  {
   "cell_type": "code",
   "execution_count": 9,
   "metadata": {},
   "outputs": [
    {
     "ename": "RecursionError",
     "evalue": "maximum recursion depth exceeded while calling a Python object",
     "output_type": "error",
     "traceback": [
      "\u001b[0;31m---------------------------------------------------------------------------\u001b[0m",
      "\u001b[0;31mRecursionError\u001b[0m                            Traceback (most recent call last)",
      "Input \u001b[0;32mIn [9]\u001b[0m, in \u001b[0;36m<cell line: 1>\u001b[0;34m()\u001b[0m\n\u001b[0;32m----> 1\u001b[0m \u001b[43mpermute\u001b[49m\u001b[43m(\u001b[49m\u001b[38;5;124;43m'\u001b[39;49m\u001b[38;5;124;43mabc\u001b[39;49m\u001b[38;5;124;43m'\u001b[39;49m\u001b[43m)\u001b[49m\n",
      "Input \u001b[0;32mIn [8]\u001b[0m, in \u001b[0;36mpermute\u001b[0;34m(string)\u001b[0m\n\u001b[1;32m     11\u001b[0m     rest \u001b[38;5;241m=\u001b[39m string[\u001b[38;5;241m1\u001b[39m:]\n\u001b[1;32m     12\u001b[0m \u001b[38;5;66;03m# Once you have the list from step 2, add each element from that list to the character from the initial string, and append the result to our list of final results. \u001b[39;00m\n\u001b[0;32m---> 13\u001b[0m     \u001b[43mpermute\u001b[49m\u001b[43m(\u001b[49m\u001b[43mfirst_letter\u001b[49m\u001b[43m \u001b[49m\u001b[38;5;241;43m+\u001b[39;49m\u001b[43m \u001b[49m\u001b[43mrest\u001b[49m\u001b[43m)\u001b[49m\n\u001b[1;32m     15\u001b[0m \u001b[38;5;28;01mreturn\u001b[39;00m final\n",
      "Input \u001b[0;32mIn [8]\u001b[0m, in \u001b[0;36mpermute\u001b[0;34m(string)\u001b[0m\n\u001b[1;32m     11\u001b[0m     rest \u001b[38;5;241m=\u001b[39m string[\u001b[38;5;241m1\u001b[39m:]\n\u001b[1;32m     12\u001b[0m \u001b[38;5;66;03m# Once you have the list from step 2, add each element from that list to the character from the initial string, and append the result to our list of final results. \u001b[39;00m\n\u001b[0;32m---> 13\u001b[0m     \u001b[43mpermute\u001b[49m\u001b[43m(\u001b[49m\u001b[43mfirst_letter\u001b[49m\u001b[43m \u001b[49m\u001b[38;5;241;43m+\u001b[39;49m\u001b[43m \u001b[49m\u001b[43mrest\u001b[49m\u001b[43m)\u001b[49m\n\u001b[1;32m     15\u001b[0m \u001b[38;5;28;01mreturn\u001b[39;00m final\n",
      "    \u001b[0;31m[... skipping similar frames: permute at line 13 (2969 times)]\u001b[0m\n",
      "Input \u001b[0;32mIn [8]\u001b[0m, in \u001b[0;36mpermute\u001b[0;34m(string)\u001b[0m\n\u001b[1;32m     11\u001b[0m     rest \u001b[38;5;241m=\u001b[39m string[\u001b[38;5;241m1\u001b[39m:]\n\u001b[1;32m     12\u001b[0m \u001b[38;5;66;03m# Once you have the list from step 2, add each element from that list to the character from the initial string, and append the result to our list of final results. \u001b[39;00m\n\u001b[0;32m---> 13\u001b[0m     \u001b[43mpermute\u001b[49m\u001b[43m(\u001b[49m\u001b[43mfirst_letter\u001b[49m\u001b[43m \u001b[49m\u001b[38;5;241;43m+\u001b[39;49m\u001b[43m \u001b[49m\u001b[43mrest\u001b[49m\u001b[43m)\u001b[49m\n\u001b[1;32m     15\u001b[0m \u001b[38;5;28;01mreturn\u001b[39;00m final\n",
      "Input \u001b[0;32mIn [8]\u001b[0m, in \u001b[0;36mpermute\u001b[0;34m(string)\u001b[0m\n\u001b[1;32m      1\u001b[0m \u001b[38;5;28;01mdef\u001b[39;00m \u001b[38;5;21mpermute\u001b[39m(string):\n\u001b[1;32m      2\u001b[0m     final \u001b[38;5;241m=\u001b[39m []\n\u001b[0;32m----> 4\u001b[0m     \u001b[38;5;28;01mif\u001b[39;00m \u001b[38;5;28;43mlen\u001b[39;49m\u001b[43m(\u001b[49m\u001b[43mstring\u001b[49m\u001b[43m)\u001b[49m \u001b[38;5;241m==\u001b[39m \u001b[38;5;241m1\u001b[39m:\n\u001b[1;32m      5\u001b[0m         final \u001b[38;5;241m=\u001b[39m [s]\n\u001b[1;32m      6\u001b[0m     \u001b[38;5;66;03m# Iterate through the initial string – e.g., ‘abc’.\u001b[39;00m\n",
      "\u001b[0;31mRecursionError\u001b[0m: maximum recursion depth exceeded while calling a Python object"
     ]
    }
   ],
   "source": [
    "permute('abc') # should return ['abc', 'acb', 'bac', 'bca', 'cab', 'cba']"
   ]
  },
  {
   "cell_type": "markdown",
   "metadata": {},
   "source": [
    "____\n",
    "# Test Your Solution"
   ]
  },
  {
   "cell_type": "code",
   "execution_count": 25,
   "metadata": {},
   "outputs": [
    {
     "name": "stdout",
     "output_type": "stream",
     "text": [
      "All test cases passed.\n"
     ]
    }
   ],
   "source": [
    "\"\"\"\n",
    "RUN THIS CELL TO TEST YOUR SOLUTION.\n",
    "\"\"\"\n",
    "\n",
    "from nose.tools import assert_equal\n",
    "\n",
    "class TestPerm(object):\n",
    "    \n",
    "    def test(self,solution):\n",
    "        \n",
    "        assert_equal(sorted(solution('abc')),sorted(['abc', 'acb', 'bac', 'bca', 'cab', 'cba']))\n",
    "        assert_equal(sorted(solution('dog')),sorted(['dog', 'dgo', 'odg', 'ogd', 'gdo', 'god']) )\n",
    "        \n",
    "        print('All test cases passed.')\n",
    "        \n",
    "\n",
    "\n",
    "# Run Tests\n",
    "t = TestPerm()\n",
    "t.test(permute)"
   ]
  },
  {
   "cell_type": "markdown",
   "metadata": {},
   "source": [
    "## Good Luck!"
   ]
  }
 ],
 "metadata": {
  "kernelspec": {
   "display_name": "Python 3 (ipykernel)",
   "language": "python",
   "name": "python3"
  },
  "language_info": {
   "codemirror_mode": {
    "name": "ipython",
    "version": 3
   },
   "file_extension": ".py",
   "mimetype": "text/x-python",
   "name": "python",
   "nbconvert_exporter": "python",
   "pygments_lexer": "ipython3",
   "version": "3.8.13"
  }
 },
 "nbformat": 4,
 "nbformat_minor": 1
}
